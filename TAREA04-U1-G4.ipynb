{
  "cells": [
    {
      "cell_type": "code",
      "execution_count": null,
      "metadata": {
        "colab": {
          "base_uri": "https://localhost:8080/"
        },
        "id": "LscHXm2qQ2W5",
        "outputId": "7b8fbfd5-6587-42f4-dec6-26859925f654"
      },
      "outputs": [],
      "source": [
        "pip install pycryptodome"
      ]
    },
    {
      "cell_type": "code",
      "execution_count": null,
      "metadata": {
        "colab": {
          "base_uri": "https://localhost:8080/"
        },
        "id": "AxPWk8DpQkAi",
        "outputId": "7126b0fd-4be3-4df4-caac-171689977270"
      },
      "outputs": [
        {
          "name": "stdout",
          "output_type": "stream",
          "text": [
            "Ingresa el mensaje que deseas codificar: juguitodecoco\n",
            "\n",
            "Mensaje cifrado (en hexadecimal): b1f698fe7a816bf99aa0ba502d\n",
            "Clave (en hexadecimal): 88c0192ffcd0cac7d9113c4f3f1b791de7a3b81889fcde836fd72f60b33aa7fc\n",
            "Nonce (en hexadecimal): 13f25c3e13eb8d5f\n"
          ]
        }
      ],
      "source": [
        "from Crypto.Cipher import ChaCha20\n",
        "from Crypto.Random import get_random_bytes\n",
        "\n",
        "def encrypt_message(message):\n",
        "    key = get_random_bytes(32)\n",
        "    nonce = get_random_bytes(8)\n",
        "\n",
        "    cipher = ChaCha20.new(key=key, nonce=nonce)\n",
        "    ciphertext = cipher.encrypt(message.encode('utf-8'))\n",
        "\n",
        "    return key, nonce, ciphertext\n",
        "\n",
        "def main():\n",
        "    message = input(\"Ingresa el mensaje que deseas codificar: \")\n",
        "    key, nonce, ciphertext = encrypt_message(message)\n",
        "\n",
        "    print(\"\\nMensaje cifrado (en hexadecimal):\", ciphertext.hex())\n",
        "    print(\"Clave (en hexadecimal):\", key.hex())\n",
        "    print(\"Nonce (en hexadecimal):\", nonce.hex())\n",
        "\n",
        "if __name__ == \"__main__\":\n",
        "    main()"
      ]
    }
  ],
  "metadata": {
    "colab": {
      "provenance": []
    },
    "kernelspec": {
      "display_name": "Python 3",
      "name": "python3"
    },
    "language_info": {
      "name": "python"
    }
  },
  "nbformat": 4,
  "nbformat_minor": 0
}
